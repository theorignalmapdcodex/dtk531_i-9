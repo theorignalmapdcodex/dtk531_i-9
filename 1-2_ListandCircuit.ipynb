{
    "cells": [
     {
      "cell_type": "markdown",
      "metadata": {},
      "source": [
       "# PART 1 - Generating List Of Materials For My Project:\n",
       "\n",
       "| Item                                                                 | Price Per Unit | Link (Source)                                                                                     |\n",
       "|----------------------------------------------------------------------|----------------|---------------------------------------------------------------------------------------------------|\n",
       "| SparkFun Pulse Oximeter and Heart Rate Sensor - MAX30101 & MAX32664 (Qwiic) | $42.95         | [Link](https://www.sparkfun.com/sparkfun-pulse-oximeter-and-heart-rate-sensor-max30101-max32664-qwiic.html) |\n",
       "| MAX30102 Heart Rate and Pulse Oximeter Sensor                       | $13.00         | [Link](https://makersportal.com/shop/max30102-heart-rate-and-pulse-oximeter-sensor)               |\n",
       "| Adafruit TMP117 ±0.1°C High Accuracy I2C Temperature Sensor - STEMMA QT / Qwiic | $11.95         | [Link](https://www.adafruit.com/product/4821?gad_source=1&gclid=CjwKCAjwktO0BhBrEiwAV70jX_pE6x-rq-fft5ials9G16B06CW9SVYYD41O0qu9jG92W7KCNnWGSRoCB_ZWQAVD_BwE) |\n",
       "| ADXL345 - Triple-Axis Accelerometer (+-2g/4g/8g/16g) w/ I2C/SPI - STEMMA QT / Qwiic | $17.50         | [Link](https://www.adafruit.com/product/1231)                                                     |\n"
      ]
     },
     {
      "cell_type": "markdown",
      "metadata": {},
      "source": [
       "# PART 2 - Placeholder for Image:\n",
       "\n",
       "(Dummy space for an image - to be added later)"
      ]
     }
    ],
    "metadata": {
     "kernelspec": {
      "display_name": "Python 3",
      "language": "python",
      "name": "python3"
     },
     "language_info": {
      "codemirror_mode": {
       "name": "ipython",
       "version": 3
      },
      "file_extension": ".py",
      "mimetype": "text/x-python",
      "name": "python",
      "nbconvert_exporter": "python",
      "pygments_lexer": "ipython3",
      "version": "3.8.5"
     }
    },
    "nbformat": 4,
    "nbformat_minor": 4
   }